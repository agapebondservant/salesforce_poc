{
 "cells": [
  {
   "cell_type": "markdown",
   "metadata": {
    "id": "b0DO2AryfwGK"
   },
   "source": [
    "## Implementing a student financial aid finder with Agentic Workflows\n",
    "<link rel=\"stylesheet\"\n",
    "href=\"https://stackpath.bootstrapcdn.com/bootstrap/4.5.2/css/bootstrap.min.css\"\n",
    "integrity=\"sha384-JcKb8q3iqJ61gNV9KGb8thSsNjpSL0n8PARn9HuZOnIxN0hoP+VmmDGMN5t9UJ0Z\"\n",
    "crossorigin=\"anonymous\">\n",
    "<div class=\"bg-info\">\n",
    "<h3>What are agentic workflows?</h3>\n",
    "</div>\n",
    "\n",
    "An <b>agentic workflow</b> is a multi-step sequence of tasks or decisions whose orchestration is handled by AI agents. In Generative AI, AI agents are Large Language Models (or \"Large Action Models\" in this context) that can perform goal-oriented tasks with minimal human intervention. Such tasks may include everything from simple reasoning tasks to complex decision making, and often involve interaction with external resources or systems (called \"tools\").\n",
    "\n",
    "The following will build an agentic workflow for finding scholarships and other student aid. The initial version of the workflow will consist of the following steps:\n",
    "\n",
    "\n",
    "1.   A **screener** agent (LLM) builds a list of relevant questions for the interviewer to use to converse with the user.\n",
    "2.   An **interviewer** agent (LLM) handles back-and-forth interaction with the user to gather enough information for the reporter agent. During each turn, it will narrow down relevant questions for the interview and iteratively feed them to the user. Once it thinks it has a complete user profile, it will end the interview and the reporter will be notified.\n",
    "3.   A **reporter** agent (LLM + tool) receives notification from the interviewer agent that the interview has ended, then generates a personalized report containing student aid options that match the user's profile.\n",
    "\n",
    "\n",
    "\n",
    "<div class=\"bg-info\">\n",
    "<h3>What is the difference between an agentic framework and an agentic orchestration framework?</h3>\n",
    "</div>\n",
    "\n",
    "There are different schools of thought about agentic orchestration frameworks.\n",
    "\n",
    "Agentic orchestration can refer to <b>agent-of-agent</b> systems, which are defined based on the number of agents. In this case, they are simply agentic systems that consist of more than a single agent. Hence, it can refer to agentic systems with multiple agents; it can also refer to agentic systems that invoke other agentic systems.\n",
    "\n",
    "Sometimes, agentic orchestration can also be used to distinguish complex multi-agent systems from simpler agentic systems. In this case, agentic orchestration is only necessary for systems with high levels of complexity. This is based on not just the number of agents, but other factors such as the types of flows (directed versus cyclic).\n",
    "\n",
    "There are many frameworks that can be used for building agentic workflows. Due to their reasoning and decision-making abilities, LLMs are a natural fit for driving autonomous workflows. However, users often want the ability to extend, constrain or even override aspects of the flow. For example, they may need a way to dynamically limit cycles, manage state across disparate tools, or integrate human-in-the-loop fedback. A popular approach is to use <b>LLM orchestration</b> frameworks. These are frameworks that combine the flexible and dynamic capabilities of agent-driven workflows with low-level control over essential details of the orchestration. This notebook uses <b>LangChain</b> to build the AI agents, and <b>LangGraph</b> to build the agentic workflow that orchestrates the agents.\n",
    "\n",
    "<div class=\"bg-info\">\n",
    "<h3>Workflow Summary</h3>\n",
    "</div>\n",
    "\n",
    "Steps of the Scholarship Finder:\n",
    "- <i>Screener</i> builds a list of questions that will be used by the interviewer for the conversation with the user.\n",
    "- <i>Interviewer</i> agent receives the user's student aid inquiry and uses it to initiate an interview with the user.\n",
    "  - The interviewer extracts the latest user profile and uses it to analyze whether there is enough information to answer the interview questions.\n",
    "      - If there is not enough information, the interviewer selects one of the questions to prompt to the user using an interrupt.\n",
    "      - Else (i.e. there is enough information), the workflow redirects to the reporter agent.\n",
    "- <i>Reporter</i> agent generates a personalized report of student aid that the user could qualify for.\n",
    "  - The reporter uses its RAG tool to include a reference to a document in the data store for each student aid option.\n",
    "  - The workflow ends."
   ]
  },
  {
   "cell_type": "markdown",
   "metadata": {
    "id": "NBqxqZJ5dR8Y"
   },
   "source": [
    "# Setup"
   ]
  },
  {
   "cell_type": "code",
   "execution_count": 1,
   "metadata": {
    "id": "XynJQl3jsZSe"
   },
   "outputs": [],
   "source": [
    "# Import libraries\n",
    "from typing import TypedDict, Literal\n",
    "import json\n",
    "import random\n",
    "from langgraph.graph import END, StateGraph\n",
    "from IPython.display import Image, display\n",
    "from langchain_core.runnables.graph import CurveStyle, MermaidDrawMethod\n",
    "from langchain_core.messages import HumanMessage\n",
    "import os\n",
    "from typing import Annotated, Literal, TypedDict\n",
    "from langgraph.graph.message import add_messages\n",
    "from langchain_community.tools.tavily_search import TavilySearchResults\n",
    "from langchain_core.prompts import ChatPromptTemplate, MessagesPlaceholder\n",
    "from langchain_core.messages import filter_messages\n",
    "from langchain_openai import ChatOpenAI\n",
    "import functools\n",
    "from langgraph.prebuilt import ToolNode\n",
    "from langchain_core.tools import tool\n",
    "from langgraph.prebuilt import create_react_agent\n",
    "from langgraph.checkpoint.memory import MemorySaver\n",
    "from langgraph.types import interrupt, Command\n",
    "from langchain.text_splitter import RecursiveCharacterTextSplitter\n",
    "from langchain.tools.retriever import create_retriever_tool\n",
    "import time\n",
    "from ipywidgets import FileUpload, Button\n",
    "from IPython.display import display\n",
    "import codecs\n",
    "import re\n",
    "from vectordb_processor import VectorDbProcessor\n",
    "import traceback"
   ]
  },
  {
   "cell_type": "markdown",
   "metadata": {
    "id": "CtrqsCjqn6X6"
   },
   "source": [
    "## Defining Templates\n",
    "Each agent has its own specific **template**. The templates are defined here."
   ]
  },
  {
   "cell_type": "code",
   "execution_count": 2,
   "metadata": {
    "id": "wVN2oUbUn5J7"
   },
   "outputs": [],
   "source": [
    "screener_template = \"\"\"\n",
    "Can you ask me some short questions that could be used to find out if I am highly likely to qualify for college financial aid, scholarships, grants and other student aid in this state?\n",
    "\n",
    "Use intuitive, simple language. Explain the concepts as if I were new to them.\n",
    "\n",
    "Try to stick to requirements that are as specific as possible to my background and this state.\n",
    "\n",
    "Start with these lines: \n",
    "FROM SCREENER\n",
    "*START QUESTIONS\n",
    "\n",
    "End with this line:\n",
    "*END QUESTIONS\n",
    "\"\"\"\n",
    "\n",
    "interviewer_template = \"\"\"\n",
    "You are a friendly interviewer. Please analyze the following questions to the best of your ability. \n",
    "\n",
    "For each question, if more information is needed to provide a definitive answer about college financial aid eligibility, say NOT_ENOUGH_INFO next to the question, \n",
    "but if no more information is needed to provide a definitive answer about college financial aid eligibility, \n",
    "say HAS_ENOUGH_INFO next to the question. Explain your answer. Try to use one sentence in your answers.\n",
    "\n",
    "Use this format: \n",
    "FROM INTERVIEWER\n",
    "1. NOT_ENOUGH_INFO: More information is necessary to determine your city of residence.\n",
    "2. HAS_ENOUGH_INFO: It was explicitly stated that your GPA is 3.4.\n",
    "\"\"\"\n",
    "\n",
    "reporter_template = \"\"\"\n",
    "You are an intelligent analyst. Given the provided information, what is a list of student aid programs that I am likely to qualify for in this state? \n",
    "\n",
    "Where possible, for each student aid type in your answer, try to include the names of specific programs, institutions or organizations. \n",
    "\n",
    "If I am highly likely to qualify, say so, otherwise say that I am not likely to qualify. \n",
    "\n",
    "Start with this line: \n",
    "FROM REPORTER\n",
    "\n",
    "When you're finished, say FINISHED.\n",
    "\"\"\"\n",
    "\n",
    "reporter_tool_prompt_template = \"\"\"\n",
    "Given this information, can you provide a list of relevant student aid programs that I am likely to qualify for in this state?\n",
    "\n",
    "Include links.\n",
    "\n",
    "Never suggest seeking information from elsewhere.\n",
    "\n",
    "Provide links ONLY from your data, from the attached source file, if required, or if appropriate to the topic of the question.\n",
    "\"\"\""
   ]
  },
  {
   "cell_type": "markdown",
   "metadata": {},
   "source": [
    "## Defining Utility Methods for Managing Questions\n",
    "Here, we will define a class with utility methods that will be used by the user interface to iterate through the questions with the user."
   ]
  },
  {
   "cell_type": "code",
   "execution_count": 3,
   "metadata": {},
   "outputs": [],
   "source": [
    "#####################################\n",
    "## UTILITY METHODS ##\n",
    "#####################################\n",
    "\n",
    "class QuestionUtilities:\n",
    "    \"\"\"\n",
    "    Utility class for parsing and iterating through interview questions.\n",
    "    \"\"\"\n",
    "    INTERVIEW_REGEX = r\"_ENOUGH_INFO\"\n",
    "    ORIGINAL_QUESTIONS_REGEX = r\"\\*START QUESTIONS(.*?)\\*END QUESTIONS\"\n",
    "    INCOMPLETE_QUESTIONS_REGEX = r\"NOT_ENOUGH_INFO([^a-zA-Z]*)?(.*)?\"\n",
    "    COMPLETE_QUESTIONS_REGEX = r\"HAS_ENOUGH_INFO([^a-zA-Z]*)?(.*)?\"\n",
    "    \n",
    "    def __init__(self):\n",
    "        \"\"\"\n",
    "        Initializes the question parser.\n",
    "        \"\"\"\n",
    "        self.incomplete_questions = []\n",
    "\n",
    "        self.complete_questions = []\n",
    "\n",
    "        self.original_questions = \"\"\n",
    "\n",
    "    def update_questions(self, questions: str = \"\"):\n",
    "\n",
    "        if QuestionUtilities.INTERVIEW_REGEX in questions:\n",
    "        \n",
    "            self.incomplete_questions = self.initialize_questions(questions, QuestionUtilities.INCOMPLETE_QUESTIONS_REGEX)\n",
    "            \n",
    "            self.complete_questions = self.initialize_questions(questions, QuestionUtilities.COMPLETE_QUESTIONS_REGEX)\n",
    "\n",
    "        else:\n",
    "\n",
    "            self.original_questions = self.parse_questions(questions)\n",
    "        \n",
    "    def parse_questions(self, content: str) -> str:\n",
    "        if content is None:\n",
    "            return \"\"\n",
    "            \n",
    "        pattern = QuestionUtilities.ORIGINAL_QUESTIONS_REGEX\n",
    "        \n",
    "        match = re.search(pattern, content, re.DOTALL)\n",
    "        \n",
    "        return match.group(1).strip() if match else \"\"\n",
    "\n",
    "    def initialize_questions(self, questions: str, pattern: str) -> str:\n",
    "        if questions is None:\n",
    "            return [] \n",
    "            \n",
    "        original_questions = self.original_questions.split(\"\\n\")\n",
    "        \n",
    "        processed_questions = questions.split(\"\\n\")\n",
    "\n",
    "        results = [(orig, re.findall(pattern, processed, re.DOTALL)) for orig, processed in zip(original_questions, processed_questions)]\n",
    "\n",
    "        results = [\"\" if not processed else orig for orig, processed in results]\n",
    "\n",
    "        results = list(filter(None, results))\n",
    "        \n",
    "        return results\n",
    "\n",
    "    def is_in_interview_mode(self) -> int:\n",
    "        return len(self.complete_questions) < len(self.incomplete_questions)\n",
    "        \n",
    "util = QuestionUtilities()"
   ]
  },
  {
   "cell_type": "markdown",
   "metadata": {
    "id": "-HnyBupj2ciz"
   },
   "source": [
    "## Defining State\n",
    "Here, we will define our **GraphState**, as well as the **nodes** and **edges** that our graph is comprised of. This will encapsulate **state** in our agentic workflows."
   ]
  },
  {
   "cell_type": "code",
   "execution_count": 4,
   "metadata": {
    "id": "Tvdvlt-I13r4"
   },
   "outputs": [
    {
     "name": "stdout",
     "output_type": "stream",
     "text": [
      "Initializing OCR Processor...\n",
      "Initializing splitter...\n",
      "Initializing Vector DB/LLM settings...\n",
      "Initializing settings for LLM model...\n",
      "Initializing embedding model...\n",
      "Initializing ChromaDb Client...\n",
      "Initializing Vector Store...\n"
     ]
    }
   ],
   "source": [
    "#####################################\n",
    "## STATE ##\n",
    "#####################################\n",
    "class NMAgentState(TypedDict):\n",
    "  \"\"\"\n",
    "  Encapsulates state in our agentic workflow\n",
    "  \"\"\"\n",
    "  messages: Annotated[list, add_messages]\n",
    "\n",
    "#####################################\n",
    "## TOOLS ##\n",
    "#####################################\n",
    "processor = VectorDbProcessor(llm='granite-3-3-8b-instruct',\n",
    "                              embed_model='nomic-embed-text-v1.5',\n",
    "                              collection_name='scholarships',)\n",
    "\n",
    "reporter_tool = create_retriever_tool(\n",
    "    processor.vector_store.as_retriever(),\n",
    "    \"retrieve_document_links\",\n",
    "    reporter_tool_prompt_template,\n",
    ") \n",
    "    \n",
    "#####################################\n",
    "## AGENTS ##\n",
    "#####################################\n",
    "\"\"\"\n",
    "The LLMs used by the agents\n",
    "\"\"\"\n",
    "granite_llm = ChatOpenAI(temperature=0,\n",
    "                         model=\"granite-3-3-8b-instruct\",\n",
    "                         request_timeout=240,\n",
    "                         api_key=os.getenv('GRANITE_API_KEY'),\n",
    "                         base_url=os.getenv('GRANITE_API_BASE'),\n",
    "                        )\n",
    "\n",
    "def create_agent(llm, tools, system_message: str, messages_key: str = None):\n",
    "    \"\"\"\n",
    "    Creates an agent with the given LLM, tools, and system message\n",
    "    \"\"\"\n",
    "    prompt = ChatPromptTemplate.from_messages(\n",
    "        [\n",
    "            (\n",
    "                \"system\",\n",
    "                \"{system_message}\",\n",
    "            ),\n",
    "            MessagesPlaceholder(variable_name=messages_key or \"messages\"),\n",
    "        ]\n",
    "    )\n",
    "    prompt = prompt.partial(system_message=system_message)\n",
    "    if tools:\n",
    "      return prompt | llm.bind_tools(tools)\n",
    "    else:\n",
    "      return prompt | llm\n",
    "\n",
    "screener_agent = create_agent(granite_llm, [], screener_template)\n",
    "interviewer_agent = create_agent(granite_llm, [], interviewer_template)\n",
    "reporter_agent = create_agent(granite_llm, [], reporter_template)\n",
    "\n",
    "#####################################\n",
    "## NODES ##\n",
    "#####################################\n",
    "def agent_node(state, agent, name):\n",
    "    \"\"\"\n",
    "    Creates an agent node\n",
    "    \"\"\"\n",
    "    output = agent.invoke(state)\n",
    "    \n",
    "    results = [output]\n",
    "    \n",
    "    util.update_questions(output.content)\n",
    "    \n",
    "    if util.is_in_interview_mode() and util.incomplete_questions:\n",
    "        \n",
    "        question_response = interrupt(util.incomplete_questions)\n",
    "\n",
    "        results += [HumanMessage(content=question_response)]\n",
    "        \n",
    "    return { \"messages\": results }\n",
    "\n",
    "screener_node = functools.partial(agent_node, agent=screener_agent, name=\"Screener Agent\")\n",
    "interviewer_node = functools.partial(agent_node, agent=interviewer_agent, name=\"Interviewer Agent\")\n",
    "reporter_node = functools.partial(agent_node, agent=reporter_agent, name=\"Reporter Agent\")\n",
    "reporter_tool_node = ToolNode([reporter_tool])\n",
    "\n",
    "#####################################\n",
    "## CONDITIONAL EDGES ##\n",
    "#####################################\n",
    "def should_continue_interview(state) -> Literal['interviewer','reporter']:\n",
    "    if util.is_in_interview_mode():\n",
    "        return \"interviewer\"\n",
    "    else:\n",
    "        return \"reporter\"\n",
    "    \n",
    "def should_generate_report(state) -> Literal['reporter-tools', END]:\n",
    "  if len(state['messages']) and 'tool_calls' in state['messages'][-1] and state['messages'][-1].tool_calls:\n",
    "      return \"reporter-tools\"\n",
    "  else:\n",
    "      return END"
   ]
  },
  {
   "cell_type": "markdown",
   "metadata": {
    "id": "i8Lk_1C-8Qzd"
   },
   "source": [
    "## Defining the Workflow Graph\n",
    "Here, we will define the workflow, which will encapsulate the state, nodes and edges defined above."
   ]
  },
  {
   "cell_type": "code",
   "execution_count": 5,
   "metadata": {
    "id": "-7R8y42I8pjP"
   },
   "outputs": [],
   "source": [
    "workflow = StateGraph(NMAgentState)\n",
    "\n",
    "# nodes\n",
    "workflow.add_node(\"screener\", screener_node)\n",
    "workflow.add_node(\"interviewer\", interviewer_node)\n",
    "workflow.add_node(\"reporter\", reporter_node)\n",
    "workflow.add_node(\"reporter-tools\", reporter_tool_node)\n",
    "\n",
    "# entrypoint\n",
    "workflow.set_entry_point(\"screener\")\n",
    "\n",
    "# edges\n",
    "workflow.add_edge(\"screener\", \"interviewer\")\n",
    "workflow.add_conditional_edges(\"interviewer\", should_continue_interview)\n",
    "workflow.add_conditional_edges(\"reporter\", should_generate_report)\n",
    "workflow.add_edge(\"reporter\", END)\n",
    "workflow.add_edge(\"reporter-tools\", \"reporter\")\n",
    "\n",
    "# compile the workflow into a graph\n",
    "checkpointer = MemorySaver()\n",
    "graph = workflow.compile(checkpointer=checkpointer)"
   ]
  },
  {
   "cell_type": "markdown",
   "metadata": {
    "id": "aUg7mvnN-Ors"
   },
   "source": [
    "Visualize the graph:"
   ]
  },
  {
   "cell_type": "code",
   "execution_count": 6,
   "metadata": {
    "colab": {
     "base_uri": "https://localhost:8080/",
     "height": 796
    },
    "id": "ztvmtR3S-QrM",
    "outputId": "40dae56c-8757-4428-b94b-49d2b732c12a"
   },
   "outputs": [
    {
     "data": {
      "image/png": "[encoded data removed]",
      "text/plain": [
       "<IPython.core.display.Image object>"
      ]
     },
     "execution_count": 6,
     "metadata": {},
     "output_type": "execute_result"
    }
   ],
   "source": [
    "Image(graph.get_graph().draw_mermaid_png())"
   ]
  },
  {
   "cell_type": "markdown",
   "metadata": {
    "id": "YV-oh0rL-Vs7"
   },
   "source": [
    "# Testing the workflow\n",
    "Now that the workflow has been generated, we can test it out with different prompts."
   ]
  },
  {
   "cell_type": "code",
   "execution_count": 7,
   "metadata": {},
   "outputs": [],
   "source": [
    "# Prompt to test\n",
    "input_text = f\"\"\"I live in Virginia.\"\"\""
   ]
  },
  {
   "cell_type": "code",
   "execution_count": 8,
   "metadata": {
    "colab": {
     "base_uri": "https://localhost:8080/"
    },
    "id": "ih0KwOth_Ic2",
    "outputId": "2fb8e1eb-610d-4ca6-f98e-5a22cb3b9309"
   },
   "outputs": [
    {
     "name": "stdout",
     "output_type": "stream",
     "text": [
      "================================\u001b[1m Human Message \u001b[0m=================================\n",
      "\n",
      "I live in Virginia.\n",
      "==================================\u001b[1m Ai Message \u001b[0m==================================\n",
      "\n",
      "FROM SCREENER\n",
      "*START QUESTIONS\n",
      "\n",
      "1. Are you a U.S. citizen or eligible non-citizen?\n",
      "2. Do you have a high school diploma or equivalent (GED)?\n",
      "3. Are you planning to enroll in college or career school within the next academic year?\n",
      "4. What is your family's annual income before taxes? (This will help determine your Expected Family Contribution (EFC) for financial aid.)\n",
      "5. How many family members are currently living in your household?\n",
      "6. How many of those family members will be attending college in the fall?\n",
      "7. Does your family receive any federal assistance programs, such as Temporary Assistance for Needy Families (TANF), Supplemental Security Income (SSI), or food assistance?\n",
      "8. Have you or your parents served in the U.S. Armed Forces? If yes, please specify.\n",
      "9. Are you pursuing a degree or certificate program at a participating Virginia institution? (This is important for state-specific aid programs.)\n",
      "10. Have you or your parents lived in Virginia for at least one year prior to filing the FAFSA?\n",
      "\n",
      "*END QUESTIONS\n",
      "\n",
      "Please note that these questions are to give a general idea of your potential eligibility for financial aid. For precise information, you should consult with a financial aid advisor or complete the Free Application for Federal Student Aid (FAFSA) form.\n"
     ]
    },
    {
     "name": "stdin",
     "output_type": "stream",
     "text": [
      "2. Do you have a high school diploma or equivalent (GED)? yes\n",
      "3. Are you planning to enroll in college or career school within the next academic year? no, planning to enrol in 2028\n",
      "4. What is your family's annual income before taxes? (This will help determine your Expected Family Contribution (EFC) for financial aid.) $140000\n",
      "6. How many of those family members will be attending college in the fall? 0\n",
      "7. Does your family receive any federal assistance programs, such as Temporary Assistance for Needy Families (TANF), Supplemental Security Income (SSI), or food assistance? no\n",
      "8. Have you or your parents served in the U.S. Armed Forces? If yes, please specify. no\n",
      "9. Are you pursuing a degree or certificate program at a participating Virginia institution? (This is important for state-specific aid programs.) I plan to attend Virginia State University\n",
      "10. Have you or your parents lived in Virginia for at least one year prior to filing the FAFSA? yes\n"
     ]
    },
    {
     "name": "stdout",
     "output_type": "stream",
     "text": [
      "==================================\u001b[1m Ai Message \u001b[0m==================================\n",
      "\n",
      "FROM SCREENER\n",
      "*START QUESTIONS\n",
      "\n",
      "1. Are you a U.S. citizen or eligible non-citizen?\n",
      "2. Do you have a high school diploma or equivalent (GED)?\n",
      "3. Are you planning to enroll in college or career school within the next academic year?\n",
      "4. What is your family's annual income before taxes? (This will help determine your Expected Family Contribution (EFC) for financial aid.)\n",
      "5. How many family members are currently living in your household?\n",
      "6. How many of those family members will be attending college in the fall?\n",
      "7. Does your family receive any federal assistance programs, such as Temporary Assistance for Needy Families (TANF), Supplemental Security Income (SSI), or food assistance?\n",
      "8. Have you or your parents served in the U.S. Armed Forces? If yes, please specify.\n",
      "9. Are you pursuing a degree or certificate program at a participating Virginia institution? (This is important for state-specific aid programs.)\n",
      "10. Have you or your parents lived in Virginia for at least one year prior to filing the FAFSA?\n",
      "\n",
      "*END QUESTIONS\n",
      "\n",
      "Please note that these questions are to give a general idea of your potential eligibility for financial aid. For precise information, you should consult with a financial aid advisor or complete the Free Application for Federal Student Aid (FAFSA) form.\n",
      "================================\u001b[1m Human Message \u001b[0m=================================\n",
      "\n",
      "2. Do you have a high school diploma or equivalent (GED)?\n",
      " yes\n",
      "3. Are you planning to enroll in college or career school within the next academic year?\n",
      " no, planning to enrol in 2028\n",
      "4. What is your family's annual income before taxes? (This will help determine your Expected Family Contribution (EFC) for financial aid.)\n",
      " $140000\n",
      "6. How many of those family members will be attending college in the fall?\n",
      " 0\n",
      "7. Does your family receive any federal assistance programs, such as Temporary Assistance for Needy Families (TANF), Supplemental Security Income (SSI), or food assistance?\n",
      " no\n",
      "8. Have you or your parents served in the U.S. Armed Forces? If yes, please specify.\n",
      " no\n",
      "9. Are you pursuing a degree or certificate program at a participating Virginia institution? (This is important for state-specific aid programs.)\n",
      " I plan to attend Virginia State University\n",
      "10. Have you or your parents lived in Virginia for at least one year prior to filing the FAFSA?\n",
      " yes\n",
      "\n",
      "==================================\u001b[1m Ai Message \u001b[0m==================================\n",
      "\n",
      "1. HAS_ENOUGH_INFO: It was explicitly stated that you have a high school diploma or equivalent (GED).\n",
      "2. NOT_ENOUGH_INFO: More information is necessary to determine your current plans, as you mentioned planning to enroll in 2028 instead of the next academic year.\n",
      "3. NOT_ENOUGH_INFO: More information is necessary to determine your family's annual income before taxes, as you provided a range ($140,000) but not the exact amount.\n",
      "4. HAS_ENOUGH_INFO: It was explicitly stated that your family's annual income before taxes is $140,000.\n",
      "5. HAS_ENOUGH_INFO: It was explicitly stated that no family members will be attending college in the fall.\n",
      "6. NOT_ENOUGH_INFO: More information is necessary to determine if your family receives any federal assistance programs, such as Temporary Assistance for Needy Families (TANF), Supplemental Security Income (SSI), or food assistance.\n",
      "7. NOT_ENOUGH_INFO: More information is necessary to determine if you or your parents have served in the U.S. Armed Forces.\n",
      "8. HAS_ENOUGH_INFO: It was explicitly stated that you plan to attend Virginia State University, a participating institution for state-specific aid programs.\n",
      "9. HAS_ENOUGH_INFO: It was explicitly stated that you or your parents have lived in Virginia for at least one year prior to filing the FAFSA.\n",
      "==================================\u001b[1m Ai Message \u001b[0m==================================\n",
      "\n",
      "FROM REPORTER\n",
      "\n",
      "Based on the information provided, here are the student aid programs you are likely to qualify for in Virginia:\n",
      "\n",
      "1. Federal Student Aid (FAFSA): As a U.S. citizen or eligible non-citizen with a high school diploma or equivalent, you are likely to qualify for federal student aid. Your family's annual income of $140,000 places you in the range where you may receive need-based aid, such as Pell Grants, Direct Subsidized Loans, and Direct Unsubsidized Loans.\n",
      "\n",
      "2. Virginia State University Scholarships: As you plan to attend Virginia State University, you should explore their scholarship opportunities. VSU offers various scholarships based on academic merit, financial need, and other criteria.\n",
      "\n",
      "3. Virginia Tuition Assistance Grant Program (VTAG): With your family's income and Virginia residency, you may qualify for the VTAG, which provides grants to eligible undergraduate students attending a participating private college or university in Virginia.\n",
      "\n",
      "4. Virginia In-State Tuition: As a Virginia resident who has lived in the state for at least one year, you are likely to qualify for in-state tuition rates at public colleges and universities, including Virginia State University.\n",
      "\n",
      "5. Virginia Military Institute (VMI) Scholar Program: If you are interested in attending VMI, you may qualify for the VMI Scholar Program, which provides full tuition, room, board, and books for four years to academically qualified students.\n",
      "\n",
      "6. Virginia Governor's Scholarships: If you are a high-achieving high school senior, you may qualify for the Virginia Governor's Scholar program, which offers scholarships for in-state tuition, room, and board at any public Virginia institution.\n",
      "\n",
      "7. Virginia Education Lottery Proceeds: Proceeds from the Virginia Education Lottery fund various scholarship and grant programs, including the HOPE Scholarship and the Virginia Western Community College Foundation Scholarship.\n",
      "\n",
      "8. Private Scholarships: You may also want to explore private scholarships offered by various organizations, foundations, and corporations. Websites like Fastweb, Scholarship America, and Cappex can help you find relevant scholarships.\n",
      "\n",
      "Please note that the eligibility criteria for these programs may change, and it's essential to consult with a financial aid advisor or the respective institutions for the most accurate information.\n",
      "\n",
      "FINISHED.\n"
     ]
    }
   ],
   "source": [
    "def run_stream(stream):\n",
    "    try:\n",
    "      for event in stream:\n",
    "          if '__interrupt__' in event:\n",
    "              questions = event['__interrupt__'][0].value\n",
    "              input_text = \"\"\n",
    "              for question in questions:\n",
    "                  input_text = input_text + question + \"\\n \" + input(question) + \"\\n\"\n",
    "              stream = graph.stream(Command(resume=input_text), config=graph.get_state(config).config, stream_mode=\"values\")\n",
    "              run_stream(stream)\n",
    "              continue\n",
    "          else:\n",
    "              last_message = event['messages'][-1]\n",
    "              last_message.pretty_print()\n",
    "    except Exception as e:\n",
    "      print(f\"\\n\\nErrors generating response:\\n===============\\n {str(e)}\")\n",
    "      traceback.print_exc()\n",
    "\n",
    "config = {\"configurable\": {\"thread_id\": 42, \"recursion_limit\": 5}}\n",
    "stream = graph.stream({\"messages\": [HumanMessage(content=input_text)]}, config, stream_mode=\"values\")\n",
    "run_stream(stream)"
   ]
  }
 ],
 "metadata": {
  "colab": {
   "provenance": []
  },
  "kernelspec": {
   "display_name": "Python 3 (ipykernel)",
   "language": "python",
   "name": "python3"
  },
  "language_info": {
   "codemirror_mode": {
    "name": "ipython",
    "version": 3
   },
   "file_extension": ".py",
   "mimetype": "text/x-python",
   "name": "python",
   "nbconvert_exporter": "python",
   "pygments_lexer": "ipython3",
   "version": "3.12.9"
  }
 },
 "nbformat": 4,
 "nbformat_minor": 4
}
